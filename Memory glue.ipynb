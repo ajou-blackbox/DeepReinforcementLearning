{
 "cells": [
  {
   "cell_type": "code",
   "execution_count": 1,
   "metadata": {},
   "outputs": [],
   "source": [
    "import pickle\n",
    "import numpy as np\n",
    "from collections import deque"
   ]
  },
  {
   "cell_type": "code",
   "execution_count": 5,
   "metadata": {},
   "outputs": [],
   "source": [
    "class Memory:\n",
    "\tdef __init__(self, MEMORY_SIZE):\n",
    "\t\tself.MEMORY_SIZE = 30000 # config.MEMORY_SIZE\n",
    "\t\tself.ltmemory = deque(maxlen=30000)\n",
    "\t\tself.stmemory = deque(maxlen=30000)\n",
    "\n",
    "\tdef commit_stmemory(self, identities, state, actionValues):\n",
    "\t\tfor r in identities(state, actionValues):\n",
    "\t\t\tself.stmemory.append({\n",
    "\t\t\t\t'board': r[0].board\n",
    "\t\t\t\t, 'state': r[0]\n",
    "\t\t\t\t, 'id': r[0].id\n",
    "\t\t\t\t, 'AV': r[1]\n",
    "\t\t\t\t, 'playerTurn': r[0].playerTurn\n",
    "\t\t\t\t})\n",
    "\n",
    "\tdef commit_ltmemory(self):\n",
    "\t\tfor i in self.stmemory:\n",
    "\t\t\tself.ltmemory.append(i)\n",
    "\t\tself.clear_stmemory()\n",
    "\n",
    "\tdef clear_stmemory(self):\n",
    "\t\tself.stmemory = deque(maxlen=config.MEMORY_SIZE)"
   ]
  },
  {
   "cell_type": "code",
   "execution_count": 7,
   "metadata": {},
   "outputs": [],
   "source": [
    "memory1 = Memory(30000)\n",
    "memory2 = Memory(30000)\n",
    "memory = Memory(30000)"
   ]
  },
  {
   "cell_type": "code",
   "execution_count": 13,
   "metadata": {
    "scrolled": true
   },
   "outputs": [],
   "source": [
    "memory1 = pickle.load( open( './run/memory/' + 'memory1_0039_5374' + \".p\",   \"rb\" ) )"
   ]
  },
  {
   "cell_type": "code",
   "execution_count": 14,
   "metadata": {},
   "outputs": [],
   "source": [
    "memory2 = pickle.load( open( './run/memory/' + 'memory2_0044_5382' + \".p\",   \"rb\" ) )"
   ]
  },
  {
   "cell_type": "code",
   "execution_count": 15,
   "metadata": {},
   "outputs": [],
   "source": [
    "memory3 = pickle.load( open( './run/memory/' + 'memory3_0040_5324' + \".p\",   \"rb\" ) )"
   ]
  },
  {
   "cell_type": "code",
   "execution_count": 16,
   "metadata": {},
   "outputs": [],
   "source": [
    "memory4 = pickle.load( open( './run/memory/' + 'memory4_0039_5032' + \".p\",   \"rb\" ) )"
   ]
  },
  {
   "cell_type": "code",
   "execution_count": 17,
   "metadata": {},
   "outputs": [],
   "source": [
    "memory5 = pickle.load( open( './run/memory/' + 'memory5_0035_4242' + \".p\",   \"rb\" ) )"
   ]
  },
  {
   "cell_type": "code",
   "execution_count": 18,
   "metadata": {},
   "outputs": [
    {
     "data": {
      "text/plain": [
       "5374"
      ]
     },
     "execution_count": 18,
     "metadata": {},
     "output_type": "execute_result"
    }
   ],
   "source": [
    "len(memory1.ltmemory)"
   ]
  },
  {
   "cell_type": "code",
   "execution_count": 19,
   "metadata": {},
   "outputs": [
    {
     "data": {
      "text/plain": [
       "5382"
      ]
     },
     "execution_count": 19,
     "metadata": {},
     "output_type": "execute_result"
    }
   ],
   "source": [
    "len(memory2.ltmemory)"
   ]
  },
  {
   "cell_type": "code",
   "execution_count": 20,
   "metadata": {},
   "outputs": [],
   "source": [
    "for i in memory1.ltmemory:\n",
    "\tmemory.ltmemory.append(i)\n",
    "for i in memory2.ltmemory:\n",
    "\tmemory.ltmemory.append(i)\n",
    "for i in memory3.ltmemory:\n",
    "\tmemory.ltmemory.append(i)\n",
    "for i in memory4.ltmemory:\n",
    "\tmemory.ltmemory.append(i)\n",
    "for i in memory5.ltmemory:\n",
    "\tmemory.ltmemory.append(i)"
   ]
  },
  {
   "cell_type": "code",
   "execution_count": 21,
   "metadata": {},
   "outputs": [
    {
     "data": {
      "text/plain": [
       "25354"
      ]
     },
     "execution_count": 21,
     "metadata": {},
     "output_type": "execute_result"
    }
   ],
   "source": [
    "len(memory.ltmemory)"
   ]
  },
  {
   "cell_type": "code",
   "execution_count": 23,
   "metadata": {},
   "outputs": [],
   "source": [
    "pickle.dump( memory, open( \"./run/memory/\" + 'memory' + str(len(memory.ltmemory)) + \".p\", \"wb\" ) )"
   ]
  },
  {
   "cell_type": "code",
   "execution_count": 15,
   "metadata": {},
   "outputs": [
    {
     "data": {
      "text/plain": [
       "6944"
      ]
     },
     "execution_count": 15,
     "metadata": {},
     "output_type": "execute_result"
    }
   ],
   "source": [
    "len(memory1.ltmemory) + len(memory2.ltmemory)"
   ]
  },
  {
   "cell_type": "code",
   "execution_count": null,
   "metadata": {},
   "outputs": [],
   "source": []
  }
 ],
 "metadata": {
  "kernelspec": {
   "display_name": "Python 3",
   "language": "python",
   "name": "python3"
  },
  "language_info": {
   "codemirror_mode": {
    "name": "ipython",
    "version": 3
   },
   "file_extension": ".py",
   "mimetype": "text/x-python",
   "name": "python",
   "nbconvert_exporter": "python",
   "pygments_lexer": "ipython3",
   "version": "3.7.3"
  }
 },
 "nbformat": 4,
 "nbformat_minor": 2
}
