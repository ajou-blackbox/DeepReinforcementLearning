{
 "cells": [
  {
   "cell_type": "code",
   "execution_count": 6,
   "metadata": {
    "tags": []
   },
   "outputs": [
    {
     "output_type": "stream",
     "name": "stdout",
     "text": "1"
    }
   ],
   "source": [
    "# For Tournament\n",
    "import elo_evaluating as elo\n",
    "\n",
    "for i in range(elo.EVAL_COUNT):\n",
    "    using_model = elo.check_model()\n",
    "    model1, model2 = elo.pick_model(using_model)\n",
    "    record = elo.load_record()\n",
    "    elo.elo_tournament(record, model1, model2)"
   ]
  },
  {
   "cell_type": "code",
   "execution_count": 2,
   "metadata": {
    "tags": []
   },
   "outputs": [],
   "source": [
    "# For ELO Evaluating\n",
    "import elo_evaluating as elo\n",
    "\n",
    "record = elo.load_record()\n",
    "elo_ratings = elo.load_elo()\n",
    "elo_ratings, record = elo.calc_elo(elo_ratings, record)\n",
    "elo.save_elo(elo_ratings)\n",
    "elo.save_record_direct(record)"
   ]
  },
  {
   "cell_type": "code",
   "execution_count": null,
   "metadata": {},
   "outputs": [],
   "source": []
  }
 ],
 "metadata": {
  "language_info": {
   "codemirror_mode": {
    "name": "ipython",
    "version": 3
   },
   "file_extension": ".py",
   "mimetype": "text/x-python",
   "name": "python",
   "nbconvert_exporter": "python",
   "pygments_lexer": "ipython3",
   "version": "3.7.3-final"
  },
  "orig_nbformat": 2,
  "kernelspec": {
   "name": "python3",
   "display_name": "Python 3"
  }
 },
 "nbformat": 4,
 "nbformat_minor": 2
}