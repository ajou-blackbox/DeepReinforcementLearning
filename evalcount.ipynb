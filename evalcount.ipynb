{
 "cells": [
  {
   "cell_type": "code",
   "execution_count": 9,
   "metadata": {},
   "outputs": [
    {
     "output_type": "stream",
     "name": "stdout",
     "text": "{'current_player': 2, 'drawn': 1, 'best_player': 3}\n"
    }
   ],
   "source": [
    "import config\n",
    "import time\n",
    "from agent import Agent, User\n",
    "\n",
    "sleep_time = 30\n",
    "\n",
    "def add_score(scores, player1, player2):\n",
    "# game eval횟수만큼 채웠으면 더 이상 돌리지 않고 대기\n",
    "# scores = {'current_player':0, \"drawn\": 0, 'best_player':1}\n",
    "# scores = {player1.name:0, \"drawn\": 0, player2.name:0}\n",
    "    f = open('evalcount.txt', mode = 'rt', encoding = 'utf-8')\n",
    "    player1_score = int(f.readline())\n",
    "    drawn_score = int(f.readline())\n",
    "    player2_score = int(f.readline())\n",
    "    eval_count = int(f.readline())\n",
    "    f.close\n",
    "\n",
    "    if scores[player1.name] == 1:\n",
    "        player1_score += 1\n",
    "    elif scores['drawn'] == 1:\n",
    "        drawn += 1\n",
    "    else:\n",
    "        player2 += 1\n",
    "\n",
    "    f = open('evalcount.txt', mode = 'wt', encoding = 'utf-8')\n",
    "    f.write(str(player1_score)+'\\n')\n",
    "    f.write(str(drawn_score)+'\\n')\n",
    "    f.write(str(player2_score)+'\\n')\n",
    "    f.write(str(eval_count))\n",
    "    f.close()\n",
    "\n",
    "    print({'current_player':player1, \"drawn\": drawn, 'best_player':player2})\n",
    "    \n",
    "return {player1.name:player1, \"drawn\": drawn, player2.name:player2}\n",
    "\n",
    "#while (player1 + drawn + player2) >= config.EVAL_EPISODES or eval_count >= config.EVAL_EPISODES:\n",
    "#    time.sleep(sleep_time)\n",
    "    \n",
    "#    f = open('evalcount.txt', mode = 'rt', encoding = 'utf-8')\n",
    "#    player1 = int(f.readline())\n",
    "#    drawn = int(f.readline())\n",
    "#    player2 = int(f.readline())\n",
    "#    eval_count = int(f.readline())\n",
    "#    f.close\n",
    "\n",
    "\n"
   ]
  },
  {
   "cell_type": "code",
   "execution_count": null,
   "metadata": {},
   "outputs": [],
   "source": []
  }
 ],
 "metadata": {
  "language_info": {
   "codemirror_mode": {
    "name": "ipython",
    "version": 3
   },
   "file_extension": ".py",
   "mimetype": "text/x-python",
   "name": "python",
   "nbconvert_exporter": "python",
   "pygments_lexer": "ipython3",
   "version": "3.7.3-final"
  },
  "orig_nbformat": 2,
  "kernelspec": {
   "name": "python3",
   "display_name": "Python 3"
  }
 },
 "nbformat": 4,
 "nbformat_minor": 2
}